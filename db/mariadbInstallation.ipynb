{
  "nbformat": 4,
  "nbformat_minor": 0,
  "metadata": {
    "colab": {
      "provenance": []
    },
    "kernelspec": {
      "name": "python3",
      "display_name": "Python 3"
    },
    "language_info": {
      "name": "python"
    }
  },
  "cells": [
    {
      "cell_type": "markdown",
      "source": [
        "Setting up"
      ],
      "metadata": {
        "id": "9nF89lYSEPAO"
      }
    },
    {
      "cell_type": "code",
      "execution_count": null,
      "metadata": {
        "id": "gtnUKHB4D30r"
      },
      "outputs": [],
      "source": [
        "sudo apt update\n",
        "sudo apt upgrade\n",
        "sudo apt install mariadb-server\n",
        "sudo mysql_secure_installation"
      ]
    },
    {
      "cell_type": "markdown",
      "source": [
        "access mysql"
      ],
      "metadata": {
        "id": "YyUFJT7KEuDH"
      }
    },
    {
      "cell_type": "code",
      "source": [
        "sudo mysql -u root -p\n",
        "[type whatever pw u set]"
      ],
      "metadata": {
        "id": "N3vequXVEYlV"
      },
      "execution_count": null,
      "outputs": []
    },
    {
      "cell_type": "markdown",
      "source": [
        "create a database and go into it."
      ],
      "metadata": {
        "id": "BipM-_--EprG"
      }
    },
    {
      "cell_type": "code",
      "source": [
        "create database proj;\n",
        "use proj;"
      ],
      "metadata": {
        "id": "SI7N7tQKEtGp"
      },
      "execution_count": null,
      "outputs": []
    },
    {
      "cell_type": "markdown",
      "source": [
        "create table"
      ],
      "metadata": {
        "id": "jclm-NPmE4Wk"
      }
    },
    {
      "cell_type": "code",
      "source": [
        "CREATE TABLE your_table_name (\n",
        "    username TEXT,\n",
        "    timeStart TIME,\n",
        "    image LONGBLOB,\n",
        "    duration INT,\n",
        "    eyeDist INT\n",
        ");"
      ],
      "metadata": {
        "id": "q4dgnkgWE6Do"
      },
      "execution_count": null,
      "outputs": []
    },
    {
      "cell_type": "markdown",
      "source": [
        "now we cn insert into the table with python"
      ],
      "metadata": {
        "id": "sDTwlF2bE-wm"
      }
    },
    {
      "cell_type": "code",
      "source": [
        "pip install mysql-connector-python"
      ],
      "metadata": {
        "id": "bXFhmaVQFDbD"
      },
      "execution_count": null,
      "outputs": []
    },
    {
      "cell_type": "code",
      "source": [
        "import mysql.connector\n",
        "\n",
        "# Establish connection to the database\n",
        "db_connection = mysql.connector.connect(\n",
        "    host=\"your_host\",\n",
        "    user=\"your_username\",\n",
        "    password=\"your_password\",\n",
        "    database=\"your_database\"\n",
        ")\n",
        "\n",
        "# Create a cursor object to execute SQL queries\n",
        "cursor = db_connection.cursor()\n",
        "\n",
        "# Define the SQL query to insert data into the table\n",
        "insert_query = \"INSERT INTO your_table_name (username, timeStart, image, duration, eyeDist) VALUES (%s, %s, %s, %s, %s)\"\n",
        "\n",
        "# Sample data to insert\n",
        "username = \"sample_username\"\n",
        "timeStart = \"12:00:00\"\n",
        "image = b'\\x00\\x01\\x02\\x03'  # Example binary data\n",
        "duration = 60\n",
        "eyeDist = 5\n",
        "\n",
        "# Execute the SQL query\n",
        "cursor.execute(insert_query, (username, timeStart, image, duration, eyeDist))\n",
        "\n",
        "# Commit the transaction\n",
        "db_connection.commit()\n",
        "\n",
        "# Close the cursor and database connection\n",
        "cursor.close()\n",
        "db_connection.close()\n"
      ],
      "metadata": {
        "id": "l4QfRQAuFHBu"
      },
      "execution_count": null,
      "outputs": []
    },
    {
      "cell_type": "markdown",
      "source": [
        "For RPI400, must run in env and cannot use root user."
      ],
      "metadata": {
        "id": "fm42jgOGfucQ"
      }
    }
  ]
}